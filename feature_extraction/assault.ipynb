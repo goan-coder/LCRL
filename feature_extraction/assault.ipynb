{
 "cells": [
  {
   "cell_type": "code",
   "execution_count": 5,
   "metadata": {},
   "outputs": [],
   "source": [
    "import tensorflow as tf\n",
    "import numpy as np\n",
    "import IPython.display as display"
   ]
  },
  {
   "cell_type": "code",
   "execution_count": 6,
   "metadata": {},
   "outputs": [
    {
     "name": "stdout",
     "output_type": "stream",
     "text": [
      "Episode finished after 522 timesteps\n",
      "Episode finished after 480 timesteps\n",
      "Episode finished after 770 timesteps\n",
      "Episode finished after 786 timesteps\n",
      "Episode finished after 647 timesteps\n",
      "Episode finished after 495 timesteps\n",
      "Episode finished after 809 timesteps\n",
      "Episode finished after 513 timesteps\n",
      "Episode finished after 859 timesteps\n",
      "Episode finished after 695 timesteps\n",
      "Episode finished after 473 timesteps\n",
      "Episode finished after 472 timesteps\n",
      "Episode finished after 782 timesteps\n",
      "Episode finished after 694 timesteps\n",
      "Episode finished after 902 timesteps\n",
      "Episode finished after 926 timesteps\n"
     ]
    }
   ],
   "source": [
    "import gym\n",
    "env = gym.make('Assault-v0')\n",
    "# observations=[]\n",
    "count=0\n",
    "while(count<10000):\n",
    "    observation = env.reset()\n",
    "    for t in range(1000):\n",
    "        with open('assault%d.npy' %(count), 'wb') as f:\n",
    "            np.save(f,observation)\n",
    "#         observations.append(observation)\n",
    "        count+=1;\n",
    "        env.render()\n",
    "        action = env.action_space.sample()\n",
    "        observation, _, done, _ = env.step(action)\n",
    "        if done:\n",
    "            print(\"Episode finished after {} timesteps\".format(t+1))\n",
    "            break\n",
    "#     break\n",
    "env.close()\n",
    "# print(\"here\")\n",
    "# dataset = tf.data.Dataset.from_tensor_slices(observations)\n",
    "# print(\"here2\")\n",
    "# tf.data.experimental.save(dataset,'.','GZIP')\n",
    "\n"
   ]
  },
  {
   "cell_type": "code",
   "execution_count": null,
   "metadata": {},
   "outputs": [],
   "source": []
  },
  {
   "cell_type": "code",
   "execution_count": null,
   "metadata": {},
   "outputs": [],
   "source": []
  }
 ],
 "metadata": {
  "kernelspec": {
   "display_name": "Python 3",
   "language": "python",
   "name": "python3"
  },
  "language_info": {
   "codemirror_mode": {
    "name": "ipython",
    "version": 3
   },
   "file_extension": ".py",
   "mimetype": "text/x-python",
   "name": "python",
   "nbconvert_exporter": "python",
   "pygments_lexer": "ipython3",
   "version": "3.6.12"
  }
 },
 "nbformat": 4,
 "nbformat_minor": 4
}
